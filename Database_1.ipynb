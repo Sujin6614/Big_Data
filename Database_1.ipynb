{
  "nbformat": 4,
  "nbformat_minor": 0,
  "metadata": {
    "colab": {
      "provenance": [],
      "authorship_tag": "ABX9TyM11vWaGP/cnMNQ4Vn7N8S6",
      "include_colab_link": true
    },
    "kernelspec": {
      "name": "python3",
      "display_name": "Python 3"
    },
    "language_info": {
      "name": "python"
    }
  },
  "cells": [
    {
      "cell_type": "markdown",
      "metadata": {
        "id": "view-in-github",
        "colab_type": "text"
      },
      "source": [
        "<a href=\"https://colab.research.google.com/github/Sujin6614/Big_Data/blob/main/Database_1.ipynb\" target=\"_parent\"><img src=\"https://colab.research.google.com/assets/colab-badge.svg\" alt=\"Open In Colab\"/></a>"
      ]
    },
    {
      "cell_type": "code",
      "execution_count": null,
      "metadata": {
        "id": "1Kqkr_3KxwKC"
      },
      "outputs": [],
      "source": [
        "from google.colab import drive"
      ]
    },
    {
      "cell_type": "code",
      "source": [
        "drive.mount('/content/drive')"
      ],
      "metadata": {
        "colab": {
          "base_uri": "https://localhost:8080/"
        },
        "id": "4QTGuBxPxz2V",
        "outputId": "c9cb5797-4e67-4104-943f-0c106279146e"
      },
      "execution_count": null,
      "outputs": [
        {
          "output_type": "stream",
          "name": "stdout",
          "text": [
            "Mounted at /content/drive\n"
          ]
        }
      ]
    },
    {
      "cell_type": "code",
      "source": [
        "pip install pyspark"
      ],
      "metadata": {
        "colab": {
          "base_uri": "https://localhost:8080/"
        },
        "id": "TWdFHrmrxz47",
        "outputId": "829c2a7e-d56e-409a-fd6e-0f7231440532"
      },
      "execution_count": null,
      "outputs": [
        {
          "output_type": "stream",
          "name": "stdout",
          "text": [
            "Collecting pyspark\n",
            "  Downloading pyspark-3.5.1.tar.gz (317.0 MB)\n",
            "\u001b[2K     \u001b[90m━━━━━━━━━━━━━━━━━━━━━━━━━━━━━━━━━━━━━━━━\u001b[0m \u001b[32m317.0/317.0 MB\u001b[0m \u001b[31m3.6 MB/s\u001b[0m eta \u001b[36m0:00:00\u001b[0m\n",
            "\u001b[?25h  Preparing metadata (setup.py) ... \u001b[?25l\u001b[?25hdone\n",
            "Requirement already satisfied: py4j==0.10.9.7 in /usr/local/lib/python3.10/dist-packages (from pyspark) (0.10.9.7)\n",
            "Building wheels for collected packages: pyspark\n",
            "  Building wheel for pyspark (setup.py) ... \u001b[?25l\u001b[?25hdone\n",
            "  Created wheel for pyspark: filename=pyspark-3.5.1-py2.py3-none-any.whl size=317488491 sha256=00e63dfcf2c1d3877cb0f68f894824a699953d46c47adff41716e0ea16a83ebe\n",
            "  Stored in directory: /root/.cache/pip/wheels/80/1d/60/2c256ed38dddce2fdd93be545214a63e02fbd8d74fb0b7f3a6\n",
            "Successfully built pyspark\n",
            "Installing collected packages: pyspark\n",
            "Successfully installed pyspark-3.5.1\n"
          ]
        }
      ]
    },
    {
      "cell_type": "code",
      "source": [
        "#Load Dataset\n",
        "from pyspark.sql import SparkSession\n",
        "from pyspark.sql.functions import  when, trim\n",
        "from pyspark.context import SparkContext\n",
        "import matplotlib.pyplot as plt\n",
        "import seaborn as sns"
      ],
      "metadata": {
        "id": "I2EIdV0hxz7j"
      },
      "execution_count": null,
      "outputs": []
    },
    {
      "cell_type": "code",
      "source": [
        "spark=SparkSession.builder.appName(\"Assignment\").getOrCreate()"
      ],
      "metadata": {
        "id": "pJ-MyClTxz-I"
      },
      "execution_count": null,
      "outputs": []
    },
    {
      "cell_type": "code",
      "source": [
        "df=spark.read.csv('/content/drive/MyDrive/yo/dataset1.csv',header=True,inferSchema=True)"
      ],
      "metadata": {
        "id": "5dKLZNOMx0BU"
      },
      "execution_count": null,
      "outputs": []
    },
    {
      "cell_type": "code",
      "source": [
        "df.show()"
      ],
      "metadata": {
        "colab": {
          "base_uri": "https://localhost:8080/"
        },
        "id": "fdMzvcoVx0ED",
        "outputId": "a79321ad-18cb-4901-ed05-21c285b2ea99"
      },
      "execution_count": null,
      "outputs": [
        {
          "output_type": "stream",
          "name": "stdout",
          "text": [
            "+---+------+----+---+---+---+---+---+----+---+\n",
            "| X1|    X2|  X3| X4| X5| X6| X7| X8|  X9| Y1|\n",
            "+---+------+----+---+---+---+---+---+----+---+\n",
            "| 59|28.378|0.34|204|196|132| 49| 92| 7.7|  1|\n",
            "| 59|24.968|   1|147|181|129| 34| 96|4.09|  1|\n",
            "| 48|31.307|0.62|155|185|127| 41|139| 4.5|  1|\n",
            "| 47|27.837|0.38|488|254|158| 55|250| 5.3|  2|\n",
            "| 55|22.662|0.49| 87|175|120| 44| 99| 6.9|  1|\n",
            "| 68|23.985| 1.2| 96|193|135| 48|125| 7.9|  2|\n",
            "| 58|22.096|0.09| 70|200|133| 60|154| 7.0|  2|\n",
            "| 48|28.577|0.12|139|151| 95| 37|102| 5.6|  1|\n",
            "| 63|25.034|    |243|195|129| 45| 91| 6.9|  1|\n",
            "| 53|27.253| 1.3| 93|151| 91| 55|100|9.19|  2|\n",
            "| 57|30.538| 5.1|194|250|178| 51| 93|13.5|  2|\n",
            "| 65|24.309| 1.6| 74|173|121| 43|114| 6.4|  2|\n",
            "| 68|22.888|0.77| 87|196|129| 55|144| 9.8|  2|\n",
            "| 68|  28.3|0.97|152|180|125| 37| 88| 4.3|  2|\n",
            "| 64|25.852| 2.3| 93|187|136| 40| 99|8.69|  2|\n",
            "| 67|20.716| 0.5|112|219|137| 69| 98| 8.5|  1|\n",
            "| 61|24.204| 1.5|140|208|149| 38|136|11.5|  1|\n",
            "| 51|25.829| 2.6| 79|248|185| 44|105| 7.8|  1|\n",
            "| 33|24.843| 1.2|149|191|132| 41| 87|14.1|  1|\n",
            "| 46|25.501| 1.1|109|200|129| 55| 97|9.69|  1|\n",
            "+---+------+----+---+---+---+---+---+----+---+\n",
            "only showing top 20 rows\n",
            "\n"
          ]
        }
      ]
    },
    {
      "cell_type": "code",
      "source": [
        "df.count()"
      ],
      "metadata": {
        "colab": {
          "base_uri": "https://localhost:8080/"
        },
        "id": "b7g92O0Qx0Gb",
        "outputId": "4c312396-cf66-4ca4-9e52-2e11973e99fe"
      },
      "execution_count": null,
      "outputs": [
        {
          "output_type": "execute_result",
          "data": {
            "text/plain": [
              "6967"
            ]
          },
          "metadata": {},
          "execution_count": 9
        }
      ]
    },
    {
      "cell_type": "code",
      "source": [
        "df=df.na.replace([\" \"],[None])"
      ],
      "metadata": {
        "id": "olYZq_wvx0JN"
      },
      "execution_count": null,
      "outputs": []
    },
    {
      "cell_type": "code",
      "source": [
        "df.show()"
      ],
      "metadata": {
        "colab": {
          "base_uri": "https://localhost:8080/"
        },
        "id": "u04gHnSEx0MD",
        "outputId": "5e3157b6-0dc7-43d2-f6b4-be37bdca149a"
      },
      "execution_count": null,
      "outputs": [
        {
          "output_type": "stream",
          "name": "stdout",
          "text": [
            "+---+------+----+---+---+---+---+---+----+---+\n",
            "| X1|    X2|  X3| X4| X5| X6| X7| X8|  X9| Y1|\n",
            "+---+------+----+---+---+---+---+---+----+---+\n",
            "| 59|28.378|0.34|204|196|132| 49| 92| 7.7|  1|\n",
            "| 59|24.968|   1|147|181|129| 34| 96|4.09|  1|\n",
            "| 48|31.307|0.62|155|185|127| 41|139| 4.5|  1|\n",
            "| 47|27.837|0.38|488|254|158| 55|250| 5.3|  2|\n",
            "| 55|22.662|0.49| 87|175|120| 44| 99| 6.9|  1|\n",
            "| 68|23.985| 1.2| 96|193|135| 48|125| 7.9|  2|\n",
            "| 58|22.096|0.09| 70|200|133| 60|154| 7.0|  2|\n",
            "| 48|28.577|0.12|139|151| 95| 37|102| 5.6|  1|\n",
            "| 63|25.034|NULL|243|195|129| 45| 91| 6.9|  1|\n",
            "| 53|27.253| 1.3| 93|151| 91| 55|100|9.19|  2|\n",
            "| 57|30.538| 5.1|194|250|178| 51| 93|13.5|  2|\n",
            "| 65|24.309| 1.6| 74|173|121| 43|114| 6.4|  2|\n",
            "| 68|22.888|0.77| 87|196|129| 55|144| 9.8|  2|\n",
            "| 68|  28.3|0.97|152|180|125| 37| 88| 4.3|  2|\n",
            "| 64|25.852| 2.3| 93|187|136| 40| 99|8.69|  2|\n",
            "| 67|20.716| 0.5|112|219|137| 69| 98| 8.5|  1|\n",
            "| 61|24.204| 1.5|140|208|149| 38|136|11.5|  1|\n",
            "| 51|25.829| 2.6| 79|248|185| 44|105| 7.8|  1|\n",
            "| 33|24.843| 1.2|149|191|132| 41| 87|14.1|  1|\n",
            "| 46|25.501| 1.1|109|200|129| 55| 97|9.69|  1|\n",
            "+---+------+----+---+---+---+---+---+----+---+\n",
            "only showing top 20 rows\n",
            "\n"
          ]
        }
      ]
    },
    {
      "cell_type": "code",
      "source": [
        "final_row=df.na.drop()"
      ],
      "metadata": {
        "id": "Czsj9z2Ex0O4"
      },
      "execution_count": null,
      "outputs": []
    },
    {
      "cell_type": "code",
      "source": [
        "first_row=df.count()\n",
        "removed_row=final_row.count()\n",
        "final_rows_removed=first_row-removed_row\n",
        "print(f\"Number of rows remove:{final_rows_removed}\")"
      ],
      "metadata": {
        "colab": {
          "base_uri": "https://localhost:8080/"
        },
        "id": "o2aP9jrgx0Tn",
        "outputId": "0ece9975-b22d-4a53-ad23-348f5201001c"
      },
      "execution_count": null,
      "outputs": [
        {
          "output_type": "stream",
          "name": "stdout",
          "text": [
            "Number of rows remove:58\n"
          ]
        }
      ]
    },
    {
      "cell_type": "code",
      "source": [
        "final_row.show()"
      ],
      "metadata": {
        "colab": {
          "base_uri": "https://localhost:8080/"
        },
        "id": "lIfHAdn07s8u",
        "outputId": "d6b4f743-be6b-41fc-b79e-271798211970"
      },
      "execution_count": null,
      "outputs": [
        {
          "output_type": "stream",
          "name": "stdout",
          "text": [
            "+---+------+----+---+---+---+---+---+----+---+\n",
            "| X1|    X2|  X3| X4| X5| X6| X7| X8|  X9| Y1|\n",
            "+---+------+----+---+---+---+---+---+----+---+\n",
            "| 59|28.378|0.34|204|196|132| 49| 92| 7.7|  1|\n",
            "| 59|24.968|   1|147|181|129| 34| 96|4.09|  1|\n",
            "| 48|31.307|0.62|155|185|127| 41|139| 4.5|  1|\n",
            "| 47|27.837|0.38|488|254|158| 55|250| 5.3|  2|\n",
            "| 55|22.662|0.49| 87|175|120| 44| 99| 6.9|  1|\n",
            "| 68|23.985| 1.2| 96|193|135| 48|125| 7.9|  2|\n",
            "| 58|22.096|0.09| 70|200|133| 60|154| 7.0|  2|\n",
            "| 48|28.577|0.12|139|151| 95| 37|102| 5.6|  1|\n",
            "| 53|27.253| 1.3| 93|151| 91| 55|100|9.19|  2|\n",
            "| 57|30.538| 5.1|194|250|178| 51| 93|13.5|  2|\n",
            "| 65|24.309| 1.6| 74|173|121| 43|114| 6.4|  2|\n",
            "| 68|22.888|0.77| 87|196|129| 55|144| 9.8|  2|\n",
            "| 68|  28.3|0.97|152|180|125| 37| 88| 4.3|  2|\n",
            "| 64|25.852| 2.3| 93|187|136| 40| 99|8.69|  2|\n",
            "| 67|20.716| 0.5|112|219|137| 69| 98| 8.5|  1|\n",
            "| 61|24.204| 1.5|140|208|149| 38|136|11.5|  1|\n",
            "| 51|25.829| 2.6| 79|248|185| 44|105| 7.8|  1|\n",
            "| 33|24.843| 1.2|149|191|132| 41| 87|14.1|  1|\n",
            "| 46|25.501| 1.1|109|200|129| 55| 97|9.69|  1|\n",
            "| 63|19.817|0.42| 96|195|123| 55|245| 7.3|  2|\n",
            "+---+------+----+---+---+---+---+---+----+---+\n",
            "only showing top 20 rows\n",
            "\n"
          ]
        }
      ]
    },
    {
      "cell_type": "code",
      "source": [
        "stats=final_row.describe(\"X1\")"
      ],
      "metadata": {
        "id": "9jeqOCskx0Wf"
      },
      "execution_count": null,
      "outputs": []
    },
    {
      "cell_type": "code",
      "source": [
        "stats.show()"
      ],
      "metadata": {
        "colab": {
          "base_uri": "https://localhost:8080/"
        },
        "id": "6pn-azUJx0aP",
        "outputId": "8ecd5cf0-c531-4dae-b922-12ec4e48dbbc"
      },
      "execution_count": null,
      "outputs": [
        {
          "output_type": "stream",
          "name": "stdout",
          "text": [
            "+-------+------------------+\n",
            "|summary|                X1|\n",
            "+-------+------------------+\n",
            "|  count|              6909|\n",
            "|   mean|53.340715009408015|\n",
            "| stddev| 8.712714893790364|\n",
            "|    min|                21|\n",
            "|    max|                90|\n",
            "+-------+------------------+\n",
            "\n"
          ]
        }
      ]
    },
    {
      "cell_type": "code",
      "source": [
        "#convert X1 to list\n",
        "df_X1=final_row.select(\"X1\").rdd.flatMap(lambda x:x).collect()"
      ],
      "metadata": {
        "id": "fStpscfoy3gp"
      },
      "execution_count": null,
      "outputs": []
    },
    {
      "cell_type": "code",
      "source": [
        "#creating a Histogram for X1 data\n",
        "plt.figure(figsize=(8,6))\n",
        "plt.hist(df_X1,bins=20, color='purple',edgecolor='black')\n",
        "plt.title('Histogram of X1 ')\n",
        "plt.xlabel('Values of X1')\n",
        "plt.ylabel('Frequency')\n",
        "plt.grid(False)\n",
        "plt.show()"
      ],
      "metadata": {
        "colab": {
          "base_uri": "https://localhost:8080/",
          "height": 564
        },
        "id": "39Hc02Cxy3jo",
        "outputId": "e168c8d2-17d2-4ab0-e3be-fb9d1630ae4b"
      },
      "execution_count": null,
      "outputs": [
        {
          "output_type": "display_data",
          "data": {
            "text/plain": [
              "<Figure size 800x600 with 1 Axes>"
            ],
            "image/png": "[encoded data removed]"
          },
          "metadata": {}
        }
      ]
    },
    {
      "cell_type": "code",
      "source": [
        "#to calulate the quartiles\n",
        "quartiles=df.approxQuantile(\"X2\",[0.25,0.5,0.75],0.0)\n",
        "q1, median, q3 =quartiles"
      ],
      "metadata": {
        "id": "7ZkBh2G5y3nK"
      },
      "execution_count": null,
      "outputs": []
    },
    {
      "cell_type": "code",
      "source": [
        "#printing the quartile value\n",
        "print(\"Quartile Information for X2 feature:\")\n",
        "print(f\"First Quartile (Q1): {q1}\")\n",
        "print(f\"Median (Q2): {median}\")\n",
        "print(f\"Third Quartile (Q3): {q3}\")"
      ],
      "metadata": {
        "colab": {
          "base_uri": "https://localhost:8080/"
        },
        "id": "MXC85Iwvy3pn",
        "outputId": "2e345772-7802-40c7-e627-eadf05497d3a"
      },
      "execution_count": null,
      "outputs": [
        {
          "output_type": "stream",
          "name": "stdout",
          "text": [
            "Quartile Information for X2 feature:\n",
            "First Quartile (Q1): 22.976\n",
            "Median (Q2): 24.697\n",
            "Third Quartile (Q3): 26.435\n"
          ]
        }
      ]
    },
    {
      "cell_type": "code",
      "source": [
        "#Geberate Boxplot\n",
        "x2_data=final_row.select('X2').rdd.flatMap(lambda row: row).collect()"
      ],
      "metadata": {
        "id": "UjubKH6hy3sD"
      },
      "execution_count": null,
      "outputs": []
    },
    {
      "cell_type": "code",
      "source": [
        "plt.figure(figsize=(8, 6))\n",
        "sns.boxplot(x=x2_data)\n",
        "plt.title('Boxplot of X2 Feature')\n",
        "plt.xlabel('X2')\n",
        "plt.ylabel('Frequency')\n",
        "plt.show()"
      ],
      "metadata": {
        "colab": {
          "base_uri": "https://localhost:8080/",
          "height": 564
        },
        "id": "kc1I1VHJy3ud",
        "outputId": "9d401492-3cb5-4746-fa78-8fce48f0a127"
      },
      "execution_count": null,
      "outputs": [
        {
          "output_type": "display_data",
          "data": {
            "text/plain": [
              "<Figure size 800x600 with 1 Axes>"
            ],
            "image/png": "[encoded data removed]"
          },
          "metadata": {}
        }
      ]
    },
    {
      "cell_type": "code",
      "source": [
        "# Use filter and count methods\n",
        "count = final_row.filter((final_row['X1'] > 50) & (df['Y1'] == 1)).count()"
      ],
      "metadata": {
        "id": "XGXStOEUy3xF"
      },
      "execution_count": null,
      "outputs": []
    },
    {
      "cell_type": "code",
      "source": [
        "# Display the count\n",
        "print(\"Number of rows where 'X1' is greater than 50 and 'Y1' equals 1:\", count)"
      ],
      "metadata": {
        "colab": {
          "base_uri": "https://localhost:8080/"
        },
        "id": "H_uPJaVby3zf",
        "outputId": "fbb528ba-1f89-455d-c3e1-53c206a3b7d3"
      },
      "execution_count": null,
      "outputs": [
        {
          "output_type": "stream",
          "name": "stdout",
          "text": [
            "Number of rows where 'X1' is greater than 50 and 'Y1' equals 1: 2166\n"
          ]
        }
      ]
    },
    {
      "cell_type": "code",
      "source": [
        "from pyspark.ml.feature import StringIndexer, VectorAssembler\n",
        "from pyspark.ml.classification import LogisticRegression, RandomForestClassifier\n",
        "from pyspark.ml.evaluation import BinaryClassificationEvaluator, MulticlassClassificationEvaluator\n",
        "from pyspark.sql.functions import col"
      ],
      "metadata": {
        "id": "SIXX72nRx0c7"
      },
      "execution_count": null,
      "outputs": []
    },
    {
      "cell_type": "code",
      "source": [
        "# Convert string columns to numerical columns using StringIndexer\n",
        "indexers = [StringIndexer(inputCol=c, outputCol=f'{c}_index').fit(final_row) for c in ['X3', 'X5', 'X8']]\n",
        "indexed_df = final_row\n",
        "for indexer in indexers:\n",
        "    indexed_df = indexer.transform(indexed_df)"
      ],
      "metadata": {
        "id": "8DT1N3epx0fY"
      },
      "execution_count": null,
      "outputs": []
    },
    {
      "cell_type": "code",
      "source": [
        "# Select the indexed columns and the label column\n",
        "indexed_cols = ['Y1'] + [indexer.getOutputCol() for indexer in indexers]\n",
        "indexed_df = indexed_df.select(indexed_cols)"
      ],
      "metadata": {
        "id": "fFswe0e9x0id"
      },
      "execution_count": null,
      "outputs": []
    },
    {
      "cell_type": "code",
      "source": [
        "# Create a vector assembler to combine all other columns as predictors\n",
        "assembler = VectorAssembler(inputCols=[x for x in indexed_cols if x != 'Y1'], outputCol='features')\n"
      ],
      "metadata": {
        "id": "stlKZYJdzaXX"
      },
      "execution_count": null,
      "outputs": []
    },
    {
      "cell_type": "code",
      "source": [
        "# Apply the vector assembler to the DataFrame\n",
        "assembled_df = assembler.transform(indexed_df)"
      ],
      "metadata": {
        "id": "wuWv_o3uzaeV"
      },
      "execution_count": null,
      "outputs": []
    },
    {
      "cell_type": "code",
      "source": [
        "# Split the data into training and test sets\n",
        "train, test = assembled_df.randomSplit([0.7, 0.3])"
      ],
      "metadata": {
        "id": "-V4oisa8zahf"
      },
      "execution_count": null,
      "outputs": []
    },
    {
      "cell_type": "code",
      "source": [
        "# Create a logistic regression model\n",
        "lr = LogisticRegression(featuresCol='features', labelCol='Y1')"
      ],
      "metadata": {
        "id": "1hgyUoXQzakB"
      },
      "execution_count": null,
      "outputs": []
    },
    {
      "cell_type": "code",
      "source": [
        "# Create a random forest classifier model\n",
        "rf = RandomForestClassifier(featuresCol='features', labelCol='Y1',maxBins=300)"
      ],
      "metadata": {
        "id": "yuizSdJ9zam4"
      },
      "execution_count": null,
      "outputs": []
    },
    {
      "cell_type": "code",
      "source": [
        "# Fit the models to the training data\n",
        "lrModel = lr.fit(train)\n",
        "rfModel = rf.fit(train)"
      ],
      "metadata": {
        "id": "bSQbRKQmza3J"
      },
      "execution_count": null,
      "outputs": []
    },
    {
      "cell_type": "code",
      "source": [
        "# Make predictions on the test data\n",
        "lrPredictions = lrModel.transform(test)\n",
        "rfPredictions = rfModel.transform(test)"
      ],
      "metadata": {
        "id": "-9RjH4If0Lsp"
      },
      "execution_count": null,
      "outputs": []
    },
    {
      "cell_type": "code",
      "source": [
        "# Create the evaluator for AUC\n",
        "evaluator = BinaryClassificationEvaluator(labelCol=\"Y1\", rawPredictionCol=\"prediction\")"
      ],
      "metadata": {
        "id": "QhRC1NL00L29"
      },
      "execution_count": null,
      "outputs": []
    },
    {
      "cell_type": "code",
      "source": [
        "# Evaluate logistic regression model AUC\n",
        "lrAUC = evaluator.evaluate(lrPredictions)"
      ],
      "metadata": {
        "id": "jjW4x4yw0L5K"
      },
      "execution_count": null,
      "outputs": []
    },
    {
      "cell_type": "code",
      "source": [
        "# Evaluate random forest model AUC\n",
        "rfAUC = evaluator.evaluate(rfPredictions)\n"
      ],
      "metadata": {
        "id": "6JY6sSy80L-Z"
      },
      "execution_count": null,
      "outputs": []
    },
    {
      "cell_type": "code",
      "source": [
        "# Calculate true positives, false positives, and precision for logistic regression\n",
        "tp_lr = lrPredictions.filter((col('Y1') == 1) & (col('prediction') == 1)).count()\n",
        "fp_lr = lrPredictions.filter((col('Y1') == 0) & (col('prediction') == 1)).count()\n",
        "lrPrecision = tp_lr / (tp_lr + fp_lr)"
      ],
      "metadata": {
        "id": "HVp1jRZ30MBl"
      },
      "execution_count": null,
      "outputs": []
    },
    {
      "cell_type": "code",
      "source": [
        "# Calculate true positives, false positives, and precision for random forest\n",
        "tp_rf = rfPredictions.filter((col('Y1') == 1) & (col('prediction') == 1)).count()\n",
        "fp_rf = rfPredictions.filter((col('Y1') == 0) & (col('prediction') == 1)).count()\n",
        "rfPrecision = tp_rf / (tp_rf + fp_rf)"
      ],
      "metadata": {
        "id": "iSUD95rv0MEK"
      },
      "execution_count": null,
      "outputs": []
    },
    {
      "cell_type": "code",
      "source": [
        "# Print the evaluation metrics\n",
        "print(f'Logistic Regression AUC: {lrAUC}')\n",
        "print(f'Random Forest AUC: {rfAUC}')\n",
        "print(f'Logistic Regression Precision: {lrPrecision}')\n",
        "print(f'Random Forest Precision: {rfPrecision}')"
      ],
      "metadata": {
        "colab": {
          "base_uri": "https://localhost:8080/"
        },
        "id": "WvAfwHKh0hBq",
        "outputId": "0bbb2b61-5bb5-499a-ef0d-19471d93b709"
      },
      "execution_count": null,
      "outputs": [
        {
          "output_type": "stream",
          "name": "stdout",
          "text": [
            "Logistic Regression AUC: 1.0\n",
            "Random Forest AUC: 1.0\n",
            "Logistic Regression Precision: 1.0\n",
            "Random Forest Precision: 1.0\n"
          ]
        }
      ]
    }
  ]
}