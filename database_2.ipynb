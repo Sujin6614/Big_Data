{
  "nbformat": 4,
  "nbformat_minor": 0,
  "metadata": {
    "colab": {
      "provenance": [],
      "authorship_tag": "ABX9TyNEYIbcq3iQNHp2onILe7gM",
      "include_colab_link": true
    },
    "kernelspec": {
      "name": "python3",
      "display_name": "Python 3"
    },
    "language_info": {
      "name": "python"
    }
  },
  "cells": [
    {
      "cell_type": "markdown",
      "metadata": {
        "id": "view-in-github",
        "colab_type": "text"
      },
      "source": [
        "<a href=\"https://colab.research.google.com/github/Sujin6614/Big_Data/blob/main/database_2.ipynb\" target=\"_parent\"><img src=\"https://colab.research.google.com/assets/colab-badge.svg\" alt=\"Open In Colab\"/></a>"
      ]
    },
    {
      "cell_type": "code",
      "execution_count": null,
      "metadata": {
        "id": "apyMe2eLBgJP"
      },
      "outputs": [],
      "source": [
        "from google.colab import drive"
      ]
    },
    {
      "cell_type": "code",
      "source": [
        "drive.mount('/content/drive')"
      ],
      "metadata": {
        "colab": {
          "base_uri": "https://localhost:8080/"
        },
        "id": "j5f9qxK7EF2f",
        "outputId": "1069d01f-2ff8-43ca-ab6a-e8b24fe57212"
      },
      "execution_count": null,
      "outputs": [
        {
          "output_type": "stream",
          "name": "stdout",
          "text": [
            "Mounted at /content/drive\n"
          ]
        }
      ]
    },
    {
      "cell_type": "code",
      "source": [
        "pip install pyspark"
      ],
      "metadata": {
        "colab": {
          "base_uri": "https://localhost:8080/"
        },
        "id": "y2m2Z2_9EUob",
        "outputId": "0866eaf0-8171-4a61-8198-3acf2adf021c"
      },
      "execution_count": null,
      "outputs": [
        {
          "output_type": "stream",
          "name": "stdout",
          "text": [
            "Collecting pyspark\n",
            "  Downloading pyspark-3.5.1.tar.gz (317.0 MB)\n",
            "\u001b[2K     \u001b[90m━━━━━━━━━━━━━━━━━━━━━━━━━━━━━━━━━━━━━━━━\u001b[0m \u001b[32m317.0/317.0 MB\u001b[0m \u001b[31m1.6 MB/s\u001b[0m eta \u001b[36m0:00:00\u001b[0m\n",
            "\u001b[?25h  Preparing metadata (setup.py) ... \u001b[?25l\u001b[?25hdone\n",
            "Requirement already satisfied: py4j==0.10.9.7 in /usr/local/lib/python3.10/dist-packages (from pyspark) (0.10.9.7)\n",
            "Building wheels for collected packages: pyspark\n",
            "  Building wheel for pyspark (setup.py) ... \u001b[?25l\u001b[?25hdone\n",
            "  Created wheel for pyspark: filename=pyspark-3.5.1-py2.py3-none-any.whl size=317488491 sha256=35c96fb9eec7e15b1845cdaaafeb62daa4fec20d4e452680c03b3916c2a7741f\n",
            "  Stored in directory: /root/.cache/pip/wheels/80/1d/60/2c256ed38dddce2fdd93be545214a63e02fbd8d74fb0b7f3a6\n",
            "Successfully built pyspark\n",
            "Installing collected packages: pyspark\n",
            "Successfully installed pyspark-3.5.1\n"
          ]
        }
      ]
    },
    {
      "cell_type": "code",
      "source": [
        "from pyspark.sql import SparkSession\n",
        "from pyspark.sql.functions import  when, trim\n",
        "from pyspark.context import SparkContext\n",
        "import matplotlib.pyplot as plt\n",
        "import seaborn as sns"
      ],
      "metadata": {
        "id": "yVcTczfCEUq5"
      },
      "execution_count": null,
      "outputs": []
    },
    {
      "cell_type": "code",
      "source": [
        "spark=SparkSession.builder.appName(\"Assignment\").getOrCreate()"
      ],
      "metadata": {
        "id": "vo-hKIPtEUtc"
      },
      "execution_count": null,
      "outputs": []
    },
    {
      "cell_type": "code",
      "source": [
        "df=spark.read.csv('/content/drive/MyDrive/big_data/dataset2.csv',header=True,inferSchema=True)"
      ],
      "metadata": {
        "id": "1Rs-VwgxEUwu"
      },
      "execution_count": null,
      "outputs": []
    },
    {
      "cell_type": "code",
      "source": [
        "df.show()"
      ],
      "metadata": {
        "colab": {
          "base_uri": "https://localhost:8080/"
        },
        "id": "ssNQyTPcEUyW",
        "outputId": "9c8efef8-6871-46dc-e758-039d05462330"
      },
      "execution_count": null,
      "outputs": [
        {
          "output_type": "stream",
          "name": "stdout",
          "text": [
            "+---------+----+----+-------------------+------------------+-----+--------+----+-----+--------------------+\n",
            "|       X1|  X2|  X3|                 X4|                X5|   X6|      X7|  X8|   X9|                 X10|\n",
            "+---------+----+----+-------------------+------------------+-----+--------+----+-----+--------------------+\n",
            "| 34811059|2.73| 0.1|  3.328944661018629|           24.5962|12314|129.9049|75.3| 29.5|Middle East & Nor...|\n",
            "| 19842251|6.43| 2.0| 1.4743533878509398|          22.25083| 7103|130.1247|58.3|192.0|  Sub-Saharan Africa|\n",
            "| 40381860|2.24| 0.5|        4.785169983|           27.5017|14646|118.8915|75.5| 15.4|             America|\n",
            "|  2975029| 1.4| 0.1|        1.804106217|          25.35542| 7383|132.8108|72.5| 20.0|Europe & Central ...|\n",
            "| 21370348|1.96| 0.1|        18.01631327|          27.56373|41312|117.3755|81.5|  5.2| East Asia & Pacific|\n",
            "|  8331465|1.41| 0.3|        8.183160018|          26.46741|43952|124.1394|80.4|  4.6|Europe & Central ...|\n",
            "|  8868713|1.99| 0.1|        5.109538292|          25.65117|14365|128.6024|70.6| 43.3|Europe & Central ...|\n",
            "|   348587|1.89| 3.1|        3.131921321|          27.24594|24373|124.3862|72.2| 14.5|             America|\n",
            "|148252473|2.38|0.06|0.31916100201885805|          20.39742| 2265|125.0307|68.4| 55.9|          South Asia|\n",
            "|   277315|1.83| 1.3|        6.008278835|26.384390000000003|16075| 126.394|75.3| 15.4|             America|\n",
            "|  9526453|1.42| 0.2|         6.48817388|          26.16443|14488|129.7968|70.1|  7.2|Europe & Central ...|\n",
            "| 10779155|1.82| 0.2|        9.797336714|          26.75915|41641|121.8227|79.4|  4.7|Europe & Central ...|\n",
            "|   306165|2.91| 2.4| 1.3601259202571898|          27.02255| 8293|120.9224|70.7| 20.1|             America|\n",
            "|  8973525|5.27| 1.2| 0.5375391835148801|          22.41835| 1646|130.2723|63.2|116.3|  Sub-Saharan Africa|\n",
            "|   694990|2.51| 0.2|         0.60121031|           22.8218| 5663|125.1258|67.6| 48.1|          South Asia|\n",
            "|  9599916|3.48| 0.2|         1.43182915|          24.43335| 5066|122.4155|70.9| 52.0|             America|\n",
            "|  1967866|2.86|24.9| 2.5472054915144904|          22.12984|13858|133.1307|61.2| 63.8|  Sub-Saharan Africa|\n",
            "|194769696| 1.9|0.45|        2.023772836|          25.78623|13906|124.8745|73.9| 18.6|             America|\n",
            "|  7513646|1.43| 0.1|        6.690139082|          26.54286|15368|128.4721|73.2| 13.7|Europe & Central ...|\n",
            "| 14709011|6.04| 1.2|        0.109419171|          21.27157| 1358|130.6651|59.4|130.4|  Sub-Saharan Africa|\n",
            "+---------+----+----+-------------------+------------------+-----+--------+----+-----+--------------------+\n",
            "only showing top 20 rows\n",
            "\n"
          ]
        }
      ]
    },
    {
      "cell_type": "code",
      "source": [
        "#removing the X10\n",
        "df.drop('X10').show()"
      ],
      "metadata": {
        "colab": {
          "base_uri": "https://localhost:8080/"
        },
        "id": "-aGbYZ6UEU0k",
        "outputId": "74ec2723-1807-4d17-894d-3c9a1f655667"
      },
      "execution_count": null,
      "outputs": [
        {
          "output_type": "stream",
          "name": "stdout",
          "text": [
            "+---------+----+----+-------------------+------------------+-----+--------+----+-----+\n",
            "|       X1|  X2|  X3|                 X4|                X5|   X6|      X7|  X8|   X9|\n",
            "+---------+----+----+-------------------+------------------+-----+--------+----+-----+\n",
            "| 34811059|2.73| 0.1|  3.328944661018629|           24.5962|12314|129.9049|75.3| 29.5|\n",
            "| 19842251|6.43| 2.0| 1.4743533878509398|          22.25083| 7103|130.1247|58.3|192.0|\n",
            "| 40381860|2.24| 0.5|        4.785169983|           27.5017|14646|118.8915|75.5| 15.4|\n",
            "|  2975029| 1.4| 0.1|        1.804106217|          25.35542| 7383|132.8108|72.5| 20.0|\n",
            "| 21370348|1.96| 0.1|        18.01631327|          27.56373|41312|117.3755|81.5|  5.2|\n",
            "|  8331465|1.41| 0.3|        8.183160018|          26.46741|43952|124.1394|80.4|  4.6|\n",
            "|  8868713|1.99| 0.1|        5.109538292|          25.65117|14365|128.6024|70.6| 43.3|\n",
            "|   348587|1.89| 3.1|        3.131921321|          27.24594|24373|124.3862|72.2| 14.5|\n",
            "|148252473|2.38|0.06|0.31916100201885805|          20.39742| 2265|125.0307|68.4| 55.9|\n",
            "|   277315|1.83| 1.3|        6.008278835|26.384390000000003|16075| 126.394|75.3| 15.4|\n",
            "|  9526453|1.42| 0.2|         6.48817388|          26.16443|14488|129.7968|70.1|  7.2|\n",
            "| 10779155|1.82| 0.2|        9.797336714|          26.75915|41641|121.8227|79.4|  4.7|\n",
            "|   306165|2.91| 2.4| 1.3601259202571898|          27.02255| 8293|120.9224|70.7| 20.1|\n",
            "|  8973525|5.27| 1.2| 0.5375391835148801|          22.41835| 1646|130.2723|63.2|116.3|\n",
            "|   694990|2.51| 0.2|         0.60121031|           22.8218| 5663|125.1258|67.6| 48.1|\n",
            "|  9599916|3.48| 0.2|         1.43182915|          24.43335| 5066|122.4155|70.9| 52.0|\n",
            "|  1967866|2.86|24.9| 2.5472054915144904|          22.12984|13858|133.1307|61.2| 63.8|\n",
            "|194769696| 1.9|0.45|        2.023772836|          25.78623|13906|124.8745|73.9| 18.6|\n",
            "|  7513646|1.43| 0.1|        6.690139082|          26.54286|15368|128.4721|73.2| 13.7|\n",
            "| 14709011|6.04| 1.2|        0.109419171|          21.27157| 1358|130.6651|59.4|130.4|\n",
            "+---------+----+----+-------------------+------------------+-----+--------+----+-----+\n",
            "only showing top 20 rows\n",
            "\n"
          ]
        }
      ]
    },
    {
      "cell_type": "code",
      "source": [
        "#creating Graph\n",
        "import matplotlib.pyplot as plt\n",
        "from pyspark.sql.functions import col"
      ],
      "metadata": {
        "id": "hXFouhe3EU28"
      },
      "execution_count": null,
      "outputs": []
    },
    {
      "cell_type": "code",
      "source": [
        "x2_x8_df = df.select('X2', 'X8')\n",
        "x2_x8_rdd = x2_x8_df.rdd.map(lambda x: (x['X2'], x['X8']))\n",
        "x2_values = x2_x8_rdd.map(lambda x: x[0]).collect()\n",
        "x8_values = x2_x8_rdd.map(lambda x: x[1]).collect()"
      ],
      "metadata": {
        "id": "SaR7pJh7F9Cw"
      },
      "execution_count": null,
      "outputs": []
    },
    {
      "cell_type": "code",
      "source": [
        "plt.figure(figsize=(10, 6))\n",
        "plt.scatter(x2_values, x8_values, color='purple', alpha=0.5)\n",
        "plt.title('Relationship between X2 and X8')\n",
        "plt.xlabel('X2')\n",
        "plt.ylabel('X8')\n",
        "plt.grid(True)\n",
        "plt.show()"
      ],
      "metadata": {
        "colab": {
          "base_uri": "https://localhost:8080/",
          "height": 564
        },
        "id": "z0BTt41wF9KS",
        "outputId": "723daaf0-5878-4686-d8fe-530473033926"
      },
      "execution_count": null,
      "outputs": [
        {
          "output_type": "display_data",
          "data": {
            "text/plain": [
              "<Figure size 1000x600 with 1 Axes>"
            ],
            "image/png": "[encoded data removed]"
          },
          "metadata": {}
        }
      ]
    },
    {
      "cell_type": "code",
      "source": [
        "#using Spark SQL\n",
        "df.createOrReplaceTempView(\"data\")\n",
        "result = spark.sql(\"\"\"\n",
        "    SELECT X2, X8\n",
        "    FROM data\n",
        "    WHERE X2 > 1.0 AND X8 > 70\n",
        "\"\"\")"
      ],
      "metadata": {
        "id": "kMsjZ_xZF9Mo"
      },
      "execution_count": null,
      "outputs": []
    },
    {
      "cell_type": "code",
      "source": [
        "result.show()"
      ],
      "metadata": {
        "colab": {
          "base_uri": "https://localhost:8080/"
        },
        "id": "l52v-L7bF9O7",
        "outputId": "45f312f8-51b7-4389-b1cd-06fcba2fac1a"
      },
      "execution_count": null,
      "outputs": [
        {
          "output_type": "stream",
          "name": "stdout",
          "text": [
            "+----+----+\n",
            "|  X2|  X8|\n",
            "+----+----+\n",
            "|2.73|75.3|\n",
            "|2.24|75.5|\n",
            "| 1.4|72.5|\n",
            "|1.96|81.5|\n",
            "|1.41|80.4|\n",
            "|1.99|70.6|\n",
            "|1.89|72.2|\n",
            "|1.83|75.3|\n",
            "|1.42|70.1|\n",
            "|1.82|79.4|\n",
            "|2.91|70.7|\n",
            "|3.48|70.9|\n",
            "| 1.9|73.9|\n",
            "|1.43|73.2|\n",
            "|1.68|80.7|\n",
            "|1.89|78.9|\n",
            "|2.43|75.1|\n",
            "|1.91|79.7|\n",
            "|1.43|76.5|\n",
            "| 1.5|77.8|\n",
            "+----+----+\n",
            "only showing top 20 rows\n",
            "\n"
          ]
        }
      ]
    },
    {
      "cell_type": "code",
      "source": [
        "from pyspark.ml.feature import VectorAssembler\n",
        "from pyspark.ml.regression import LinearRegression\n",
        "from pyspark.ml.evaluation import RegressionEvaluator"
      ],
      "metadata": {
        "id": "ozt0IEGPF9RZ"
      },
      "execution_count": null,
      "outputs": []
    },
    {
      "cell_type": "code",
      "source": [
        "# Prepareing the data of:  'X2' and 'X8' columns"
      ],
      "metadata": {
        "id": "G_iyNr6HF9T_"
      },
      "execution_count": null,
      "outputs": []
    },
    {
      "cell_type": "code",
      "source": [
        "data = df.select('X2', 'X8')"
      ],
      "metadata": {
        "id": "TwQVtat7Hm9C"
      },
      "execution_count": null,
      "outputs": []
    },
    {
      "cell_type": "code",
      "source": [
        "# Spliting the data into training and testing sets"
      ],
      "metadata": {
        "id": "R1dj6GQeHoVT"
      },
      "execution_count": null,
      "outputs": []
    },
    {
      "cell_type": "code",
      "source": [
        "train, test = data.randomSplit([0.7, 0.3])"
      ],
      "metadata": {
        "id": "XMhQv0F5Hsuj"
      },
      "execution_count": null,
      "outputs": []
    },
    {
      "cell_type": "code",
      "source": [
        "# Defineing the vector assembler"
      ],
      "metadata": {
        "id": "6bXGR9n-Ht4E"
      },
      "execution_count": null,
      "outputs": []
    },
    {
      "cell_type": "code",
      "source": [
        "assembler = VectorAssembler(inputCols=['X2'], outputCol='features')"
      ],
      "metadata": {
        "id": "eR24CXALHuBW"
      },
      "execution_count": null,
      "outputs": []
    },
    {
      "cell_type": "code",
      "source": [
        "# Transforming the data using  vector assembler"
      ],
      "metadata": {
        "id": "prCPpBqHHuD6"
      },
      "execution_count": null,
      "outputs": []
    },
    {
      "cell_type": "code",
      "source": [
        "train = assembler.transform(train)\n",
        "test = assembler.transform(test)"
      ],
      "metadata": {
        "id": "6i71x87IHuGt"
      },
      "execution_count": null,
      "outputs": []
    },
    {
      "cell_type": "code",
      "source": [
        "# Defining the linear regression model"
      ],
      "metadata": {
        "id": "Nn1wRs-PHuJv"
      },
      "execution_count": null,
      "outputs": []
    },
    {
      "cell_type": "code",
      "source": [
        "lr = LinearRegression(featuresCol='features', labelCol='X8')"
      ],
      "metadata": {
        "id": "nbrsDrV0HuLi"
      },
      "execution_count": null,
      "outputs": []
    },
    {
      "cell_type": "code",
      "source": [
        "# Training the model using  training data"
      ],
      "metadata": {
        "id": "k-h53p1zHuNv"
      },
      "execution_count": null,
      "outputs": []
    },
    {
      "cell_type": "code",
      "source": [
        "lr_model = lr.fit(train)"
      ],
      "metadata": {
        "id": "spf4LSI2HuQJ"
      },
      "execution_count": null,
      "outputs": []
    },
    {
      "cell_type": "code",
      "source": [
        "# Makeing predictions on the testing data"
      ],
      "metadata": {
        "id": "XVO92p0THuSt"
      },
      "execution_count": null,
      "outputs": []
    },
    {
      "cell_type": "code",
      "source": [
        "predictions = lr_model.transform(test)"
      ],
      "metadata": {
        "id": "KEjC75m-HuVB"
      },
      "execution_count": null,
      "outputs": []
    },
    {
      "cell_type": "code",
      "source": [
        "# Evaluateing the model's performance"
      ],
      "metadata": {
        "id": "fP2fUaiaHuXi"
      },
      "execution_count": null,
      "outputs": []
    },
    {
      "cell_type": "code",
      "source": [
        "evaluator = RegressionEvaluator(labelCol='X8', predictionCol='prediction', metricName='rmse')\n",
        "rmse = evaluator.evaluate(predictions)"
      ],
      "metadata": {
        "id": "1LY5JQB2HuZ0"
      },
      "execution_count": null,
      "outputs": []
    },
    {
      "cell_type": "code",
      "source": [
        "# Printing the root mean squared error (RMSE)"
      ],
      "metadata": {
        "id": "cQ-EE8McHuch"
      },
      "execution_count": null,
      "outputs": []
    },
    {
      "cell_type": "code",
      "source": [
        "print(\"Root Mean Squared Error (RMSE):\", rmse)"
      ],
      "metadata": {
        "colab": {
          "base_uri": "https://localhost:8080/"
        },
        "id": "yxt4Y6wFHue3",
        "outputId": "21cb2a1b-a7f4-43c2-a50c-a07b5a9e1551"
      },
      "execution_count": null,
      "outputs": [
        {
          "output_type": "stream",
          "name": "stdout",
          "text": [
            "Root Mean Squared Error (RMSE): 5.99748832667019\n"
          ]
        }
      ]
    },
    {
      "cell_type": "code",
      "source": [
        "# Defining the features excluding X8 and the target column\n",
        "feature_column = ['X1','X2','X3','X4','X5','X6','X7','X9']\n",
        "target_column = 'X8'"
      ],
      "metadata": {
        "id": "SbGqOxiLHug7"
      },
      "execution_count": null,
      "outputs": []
    },
    {
      "cell_type": "code",
      "source": [
        "#Defining the predictor\n",
        "predictors = [col for col in feature_column if col != target_column]"
      ],
      "metadata": {
        "id": "egjyHDXsHuje"
      },
      "execution_count": null,
      "outputs": []
    },
    {
      "cell_type": "code",
      "source": [
        "#Create a vector assembler to combine all the feature columns\n",
        "assembler = VectorAssembler(inputCols = feature_column,outputCol='features')\n",
        "#Define the vector assembler\n",
        "assembler = VectorAssembler(inputCols=predictors,outputCol='features')\n"
      ],
      "metadata": {
        "id": "-EHHFQHhHulq"
      },
      "execution_count": null,
      "outputs": []
    },
    {
      "cell_type": "code",
      "source": [
        "#Apply the vector assembler to the DataFrame\n",
        "assembled_data = assembler.transform(df)"
      ],
      "metadata": {
        "id": "IXJv6FRNNS7m"
      },
      "execution_count": null,
      "outputs": []
    },
    {
      "cell_type": "code",
      "source": [
        "# Split the data into training and test sets\n",
        "train,test = assembled_data.randomSplit([0.7,0.3])\n"
      ],
      "metadata": {
        "id": "5InoQa5bORPY"
      },
      "execution_count": null,
      "outputs": []
    },
    {
      "cell_type": "code",
      "source": [
        "#Check if X8 exists in the train dataframe\n",
        "if 'X8' not in train.columns:\n",
        "    raise ValueError(\"Column X8 does not exist in the train DataFrame.\")\n",
        "# Check if 'X8' exists in the test DataFrame\n",
        "if 'X8' not in test.columns:\n",
        "    raise ValueError(\"Column 'X8' does not exist in the test DataFrame.\")"
      ],
      "metadata": {
        "id": "mPQJB8kxORR9"
      },
      "execution_count": null,
      "outputs": []
    },
    {
      "cell_type": "code",
      "source": [
        "# Define the Lasso regression model\n",
        "lasso = LinearRegression(featuresCol='features', labelCol=target_column, elasticNetParam=1.0, regParam=0.1)\n",
        "# Train the model using the training data\n",
        "lasso_model = lasso.fit(train)"
      ],
      "metadata": {
        "id": "CZCsNUEIORUv"
      },
      "execution_count": null,
      "outputs": []
    },
    {
      "cell_type": "code",
      "source": [
        "# Make predictions on the testing data\n",
        "predictions = lasso_model.transform(test)\n",
        "# Evaluate the model's performance\n",
        "evaluator = RegressionEvaluator(labelCol=target_column, predictionCol='prediction', metricName='rmse')\n",
        "rmse = evaluator.evaluate(predictions)"
      ],
      "metadata": {
        "id": "4IfeUBYxOoSH"
      },
      "execution_count": null,
      "outputs": []
    },
    {
      "cell_type": "code",
      "source": [
        "# Print the lasso regression (RMSE)\n",
        "print(\"Lasso Regression:\", rmse)"
      ],
      "metadata": {
        "colab": {
          "base_uri": "https://localhost:8080/"
        },
        "id": "18M0C-MQOoX7",
        "outputId": "319c2019-31f7-4b27-d108-330ed20cd9a1"
      },
      "execution_count": null,
      "outputs": [
        {
          "output_type": "stream",
          "name": "stdout",
          "text": [
            "Lasso Regression: 3.0510669205564667\n"
          ]
        }
      ]
    }
  ]
}